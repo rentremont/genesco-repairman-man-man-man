{
 "cells": [
  {
   "cell_type": "code",
   "execution_count": null,
   "id": "57a7b380",
   "metadata": {},
   "outputs": [],
   "source": [
    "import pandas as pd\n",
    "import seaborn as sns\n",
    "import numpy as np\n",
    "import matplotlib.pyplot as plt\n",
    "import datetime as dt"
   ]
  },
  {
   "cell_type": "code",
   "execution_count": null,
   "id": "9a9e3f8d",
   "metadata": {},
   "outputs": [],
   "source": [
    "lb_data = pd.read_csv(\"C:/Users/kears/NSS/Python/projects/genesco-repairman-man-man-man/data/LB/LB_DATA.csv\")"
   ]
  },
  {
   "cell_type": "code",
   "execution_count": null,
   "id": "af4e9673",
   "metadata": {},
   "outputs": [],
   "source": [
    "lb_data"
   ]
  },
  {
   "cell_type": "code",
   "execution_count": null,
   "id": "aec69c2c",
   "metadata": {},
   "outputs": [],
   "source": [
    "lb_production = pd.read_csv(\"C:/Users/kears/NSS/Python/projects/genesco-repairman-man-man-man/data/LB/LB_product_dimension.csv\")"
   ]
  },
  {
   "cell_type": "code",
   "execution_count": null,
   "id": "b9ec9214",
   "metadata": {},
   "outputs": [],
   "source": [
    "lb_production"
   ]
  },
  {
   "cell_type": "code",
   "execution_count": null,
   "id": "0ec23c92",
   "metadata": {},
   "outputs": [],
   "source": [
    "lb_df = pd.merge(lb_data, lb_production,\n",
    "                left_on = 'PARENT_STOCKNO', right_on = 'STOCKNO',\n",
    "                how = 'inner')\n",
    "lb_df"
   ]
  },
  {
   "cell_type": "code",
   "execution_count": null,
   "id": "cb5126fd",
   "metadata": {},
   "outputs": [],
   "source": [
    "lb_df = pd.merge(lb_df,lb_production,\n",
    "                left_on = 'CHILD_STOCKNO', right_on = 'STOCKNO',\n",
    "                how = 'inner')\n",
    "lb_df"
   ]
  },
  {
   "cell_type": "code",
   "execution_count": null,
   "id": "46ac0248",
   "metadata": {},
   "outputs": [],
   "source": [
    "lb_df.dtypes"
   ]
  },
  {
   "cell_type": "code",
   "execution_count": null,
   "id": "25a0f448",
   "metadata": {},
   "outputs": [],
   "source": [
    "lb_df = lb_df.drop(['DIV_x','DIV','PARENT_SOS_IND','PARENT_SOLD_AT_PRICE','EMPLOYEE_SALE','CHILD_SOS_IND','CHILD_SOLD_AT_PRICE','PARENT_DISCOUNT_IND','CHILD_DISCOUNT_IND','PARENT_SOLD_AT_PRICE','DEPARTMENT_x','MAJOR_x','MINOR_x','STOCKNO_y','STOCKNO_x','PARENT_LINENO','CHILD_LINENO','LINE_COUNT'], axis = 1)\n",
    "lb_df "
   ]
  },
  {
   "cell_type": "code",
   "execution_count": null,
   "id": "93c64192",
   "metadata": {},
   "outputs": [],
   "source": [
    "lb_df.dtypes"
   ]
  },
  {
   "cell_type": "code",
   "execution_count": null,
   "id": "5b7d6693",
   "metadata": {},
   "outputs": [],
   "source": [
    "lb_df = lb_df.drop(['DIV_y','STORE','PARENT_ITEM_SIZE','PARENT_ITEM_WIDTH','CHILD_ITEM_SIZE','CHILD_ITEM_WIDTH','AGE_SIZE_GROUP_x','AGE_SIZE_GROUP_y'], axis = 1)\n",
    "lb_df"
   ]
  },
  {
   "cell_type": "code",
   "execution_count": null,
   "id": "f5f085ae",
   "metadata": {},
   "outputs": [],
   "source": [
    "lb_df.dtypes"
   ]
  },
  {
   "cell_type": "code",
   "execution_count": null,
   "id": "ba593d58",
   "metadata": {},
   "outputs": [],
   "source": [
    "stock_groupings = lb_df.groupby(['PARENT_STOCKNO', 'CHILD_STOCKNO','BRAND_ID_x','BRAND_ID_y']).size()\n",
    "stock_groupings"
   ]
  },
  {
   "cell_type": "code",
   "execution_count": null,
   "id": "4d1ba1b4",
   "metadata": {},
   "outputs": [],
   "source": [
    "stock_df = pd.DataFrame(stock_groupings)"
   ]
  },
  {
   "cell_type": "code",
   "execution_count": null,
   "id": "4e2d19dd",
   "metadata": {},
   "outputs": [],
   "source": [
    "stock_df.head()"
   ]
  },
  {
   "cell_type": "code",
   "execution_count": null,
   "id": "88752f23",
   "metadata": {},
   "outputs": [],
   "source": [
    "stock_df = stock_df.reset_index()"
   ]
  },
  {
   "cell_type": "code",
   "execution_count": null,
   "id": "5b8ba2a0",
   "metadata": {},
   "outputs": [],
   "source": [
    "stock_df.columns = ['PARENT_STOCKNO','CHILD_STOCKNO','brand_id_x','brand_id_y','pair_count']"
   ]
  },
  {
   "cell_type": "code",
   "execution_count": null,
   "id": "4fc70458",
   "metadata": {},
   "outputs": [],
   "source": [
    "stock_df"
   ]
  },
  {
   "cell_type": "code",
   "execution_count": null,
   "id": "23e338a5",
   "metadata": {},
   "outputs": [],
   "source": [
    "stock_df = stock_df.sort_values(by = 'pair_count', ascending = False)\n",
    "stock_df"
   ]
  },
  {
   "cell_type": "code",
   "execution_count": null,
   "id": "3f19ded1",
   "metadata": {},
   "outputs": [],
   "source": [
    "stock_df= pd.merge(stock_df, lb_production,\n",
    "                  left_on = 'PARENT_STOCKNO', right_on = 'STOCKNO',\n",
    "                  how = 'left')\n",
    "stock_df"
   ]
  },
  {
   "cell_type": "code",
   "execution_count": null,
   "id": "c28ea8c1",
   "metadata": {},
   "outputs": [],
   "source": [
    "stock_df = pd.merge(stock_df, lb_production,\n",
    "                   left_on = 'CHILD_STOCKNO', right_on = 'STOCKNO', \n",
    "                   how = 'left')\n",
    "\n",
    "stock_df"
   ]
  },
  {
   "cell_type": "code",
   "execution_count": null,
   "id": "03169fe2",
   "metadata": {},
   "outputs": [],
   "source": [
    "stock_df.info()"
   ]
  },
  {
   "cell_type": "code",
   "execution_count": null,
   "id": "32f53404",
   "metadata": {},
   "outputs": [],
   "source": [
    "stock_df = stock_df.drop(['DIV_y','AGE_SIZE_GROUP_x','AGE_SIZE_GROUP_y'], axis = 1)\n",
    "stock_df"
   ]
  },
  {
   "cell_type": "code",
   "execution_count": null,
   "id": "32b96c42",
   "metadata": {},
   "outputs": [],
   "source": [
    "stock_df = stock_df.sort_values(by = 'pair_count', ascending = False)"
   ]
  },
  {
   "cell_type": "code",
   "execution_count": null,
   "id": "f0170587",
   "metadata": {
    "scrolled": true
   },
   "outputs": [],
   "source": [
    "stock_df"
   ]
  },
  {
   "cell_type": "code",
   "execution_count": null,
   "id": "caf0208d",
   "metadata": {},
   "outputs": [],
   "source": [
    "stock_df.query('BRAND_ID_x != BRAND_ID_y')\n"
   ]
  },
  {
   "cell_type": "code",
   "execution_count": null,
   "id": "4b9356f6",
   "metadata": {},
   "outputs": [],
   "source": [
    "extracted_col = lb_data['TRANSACTION_DATE']\n",
    "  \n",
    "stock_df = stock_df.join(extracted_col)\n",
    "stock_df"
   ]
  },
  {
   "cell_type": "markdown",
   "id": "02bd9bde",
   "metadata": {},
   "source": [
    "1)\tLook for any trends with color regardless of brand."
   ]
  },
  {
   "cell_type": "code",
   "execution_count": null,
   "id": "e4e3f766",
   "metadata": {},
   "outputs": [],
   "source": [
    "stock_df.dtypes"
   ]
  },
  {
   "cell_type": "code",
   "execution_count": null,
   "id": "05c6ff4f",
   "metadata": {
    "scrolled": true
   },
   "outputs": [],
   "source": [
    "color_df= stock_df.drop(['CHILD_STOCKNO','PARENT_STOCKNO','brand_id_x','brand_id_y','DIV_x','DEPARTMENT_x','DEPARTMENT_DESCRIPTION_x','MAJOR_x','MAJOR_DESCRIPTION_x','STOCKNO_x','STOCKNO_DESCRIPTION_x','COLOR_DESCRIPTION_x','BRAND_ID_x','SILHOUETTE_x','SOLE_TYPE_x','UPPER_TYPE_x','MATERIAL_x','SEASON_x', 'DEPARTMENT_y','DEPARTMENT_DESCRIPTION_y','MAJOR_y','MAJOR_DESCRIPTION_y','MINOR_y','MINOR_DESCRIPTION_y','STOCKNO_y','STOCKNO_DESCRIPTION_y','COLOR_DESCRIPTION_y','BRAND_ID_y','SILHOUETTE_y','SOLE_TYPE_y','UPPER_TYPE_y','MATERIAL_y','COLOR_STORY_y','SEASON_y','MINOR_x','MINOR_DESCRIPTION_x','TRANSACTION_DATE'], axis = 1)\n",
    "color_df"
   ]
  },
  {
   "cell_type": "code",
   "execution_count": null,
   "id": "59eb04b6",
   "metadata": {
    "scrolled": true
   },
   "outputs": [],
   "source": [
    "color_df.describe"
   ]
  },
  {
   "cell_type": "code",
   "execution_count": null,
   "id": "6d7c9b05",
   "metadata": {},
   "outputs": [],
   "source": [
    "color_df = color_df.groupby('COLOR_STORY_x').sum()\n",
    "color_df"
   ]
  },
  {
   "cell_type": "code",
   "execution_count": null,
   "id": "e54b8a73",
   "metadata": {},
   "outputs": [],
   "source": [
    "color_df = color_df.sort_values(by = 'pair_count', ascending = False)"
   ]
  },
  {
   "cell_type": "code",
   "execution_count": null,
   "id": "80caa382",
   "metadata": {},
   "outputs": [],
   "source": [
    "color_df = color_df.reset_index()"
   ]
  },
  {
   "cell_type": "code",
   "execution_count": null,
   "id": "ecc0dac6",
   "metadata": {},
   "outputs": [],
   "source": [
    "height = color_df['pair_count'].head(10)\n",
    "bars =color_df['COLOR_STORY_x'].head(10)\n",
    "x_pos = np.arange(len(bars))\n",
    "plt.figure(figsize=(20,15))\n",
    "plt.bar(x_pos, height, color = (0.5,0.1,0.5,0.6))\n",
    "plt.title('trends with colors')\n",
    "plt.xlabel('pair_count')\n",
    "plt.ylabel('color')\n",
    "plt.xticks(x_pos, bars)\n",
    "plt.xticks(fontsize=(15))\n",
    "plt.yticks(fontsize=(15))\n",
    "plt.title(label =(20))\n",
    "plt.show()"
   ]
  },
  {
   "cell_type": "markdown",
   "id": "32abe81b",
   "metadata": {},
   "source": [
    "2)\tWhich brands sell together with different colored products."
   ]
  },
  {
   "cell_type": "code",
   "execution_count": null,
   "id": "44cd64e9",
   "metadata": {},
   "outputs": [],
   "source": [
    "brand_df = stock_df.drop(['DIV_x','MAJOR_y','DEPARTMENT_DESCRIPTION_y','UPPER_TYPE_x','BRAND_ID_x','SOLE_TYPE_x','MAJOR_x','DEPARTMENT_DESCRIPTION_x', 'BRAND_ID_y', 'MATERIAL_y','UPPER_TYPE_y','SOLE_TYPE_y','MINOR_x','STOCKNO_x','MINOR_y','STOCKNO_y','SILHOUETTE_y','SEASON_y','MATERIAL_x','SEASON_x'], axis = 1)\n",
    "brand_df"
   ]
  },
  {
   "cell_type": "code",
   "execution_count": null,
   "id": "78001dd8",
   "metadata": {},
   "outputs": [],
   "source": [
    "brand_df.describe"
   ]
  },
  {
   "cell_type": "code",
   "execution_count": null,
   "id": "9222fed6",
   "metadata": {},
   "outputs": [],
   "source": [
    "brand_df['color_combo'] = brand_df.COLOR_DESCRIPTION_x + ' ' + brand_df.COLOR_DESCRIPTION_y\n",
    "brand_df"
   ]
  },
  {
   "cell_type": "code",
   "execution_count": null,
   "id": "186942b6",
   "metadata": {
    "scrolled": true
   },
   "outputs": [],
   "source": [
    "brand_df['color_combo'].value_counts().head(10)\n",
    "brand_df"
   ]
  },
  {
   "cell_type": "code",
   "execution_count": null,
   "id": "09e8e021",
   "metadata": {
    "scrolled": true
   },
   "outputs": [],
   "source": [
    "diff_color = stock_df.query('BRAND_ID_x != BRAND_ID_y and COLOR_DESCRIPTION_x != COLOR_DESCRIPTION_y')\n",
    "diff_color"
   ]
  },
  {
   "cell_type": "code",
   "execution_count": null,
   "id": "b3144c96",
   "metadata": {},
   "outputs": [],
   "source": [
    "height = brand_df['pair_count'].head(10)\n",
    "bars =brand_df['color_combo'].head(10)\n",
    "x_pos = np.arange(len(bars))\n",
    "plt.figure(figsize=(25,15))\n",
    "plt.bar(x_pos, height, color = (0.5,0.1,0.5,0.6))\n",
    "plt.title('different colors selling')\n",
    "plt.xlabel('pair_count')\n",
    "plt.ylabel('color')\n",
    "plt.xticks(x_pos, bars)\n",
    "plt.show()"
   ]
  },
  {
   "cell_type": "markdown",
   "id": "0d8a4bca",
   "metadata": {},
   "source": [
    "3)\tAny non-shoe accessories sold with specific colors."
   ]
  },
  {
   "cell_type": "code",
   "execution_count": null,
   "id": "2a6ab13c",
   "metadata": {},
   "outputs": [],
   "source": [
    "stock_df.info()"
   ]
  },
  {
   "cell_type": "code",
   "execution_count": null,
   "id": "a7ac6565",
   "metadata": {},
   "outputs": [],
   "source": [
    "accessories_df= stock_df.drop(['DIV_x','MAJOR_y','UPPER_TYPE_x','BRAND_ID_x','SOLE_TYPE_x','MAJOR_x', 'BRAND_ID_y', 'MATERIAL_y','UPPER_TYPE_y','SOLE_TYPE_y','MINOR_x','STOCKNO_x','MINOR_y','STOCKNO_y','SILHOUETTE_y','SEASON_y','MATERIAL_x','SEASON_x'], axis = 1)\n",
    "accessories_df"
   ]
  },
  {
   "cell_type": "code",
   "execution_count": null,
   "id": "01320140",
   "metadata": {},
   "outputs": [],
   "source": [
    "accessories_df = accessories_df.loc[accessories_df['DEPARTMENT_DESCRIPTION_x']== 'FINDINGS']\n",
    "accessories_df"
   ]
  },
  {
   "cell_type": "markdown",
   "id": "0ef1329b",
   "metadata": {},
   "source": [
    "4)\tDo color preferences change throughout the year."
   ]
  },
  {
   "cell_type": "code",
   "execution_count": null,
   "id": "0d17b1d9",
   "metadata": {
    "scrolled": true
   },
   "outputs": [],
   "source": [
    "months_df = stock_df.drop(['DIV_x','MAJOR_y','UPPER_TYPE_x','BRAND_ID_x','SOLE_TYPE_x','MAJOR_x', 'BRAND_ID_y', 'MATERIAL_y','UPPER_TYPE_y','SOLE_TYPE_y','MINOR_x','STOCKNO_x','MINOR_y','STOCKNO_y','SILHOUETTE_y','SEASON_y','MATERIAL_x','SEASON_x'], axis = 1)\n",
    "months_df \n"
   ]
  },
  {
   "cell_type": "code",
   "execution_count": null,
   "id": "175e3c41",
   "metadata": {},
   "outputs": [],
   "source": [
    "months_df['TRANSACTION_DATE'] = pd.to_datetime(months_df['TRANSACTION_DATE'])\n",
    "months_df.dtypes"
   ]
  },
  {
   "cell_type": "code",
   "execution_count": null,
   "id": "e16bfd6f",
   "metadata": {
    "scrolled": true
   },
   "outputs": [],
   "source": [
    "months_df.loc[(months_df['TRANSACTION_DATE'] >= '2021-04-01') & (months_df['TRANSACTION_DATE'] < '2021-07-31'), 'quarter'] = 'summer'\n",
    "months_df.loc[(months_df['TRANSACTION_DATE'] >= '2021-08-01') & (months_df['TRANSACTION_DATE'] < '2021-10-31'), 'quarter'] = 'fall'\n",
    "months_df.loc[(months_df['TRANSACTION_DATE'] >= '2021-11-01') & (months_df['TRANSACTION_DATE'] < '2022-01-31'), 'quarter'] = 'winter'\n",
    "months_df.loc[(months_df['TRANSACTION_DATE'] >= '2022-02-01') & (months_df['TRANSACTION_DATE'] < '2022-03-31'), 'quarter'] = 'spring'\n",
    "months_df.loc[(months_df['TRANSACTION_DATE'] >= '2022-04-01') & (months_df['TRANSACTION_DATE'] < '2022-07-31'), 'quarter'] = 'summer2'\n",
    "months_df.loc[(months_df['TRANSACTION_DATE'] >= '2022-08-01') & (months_df['TRANSACTION_DATE'] < '2022-10-31'), 'quarter'] = 'fall2'\n",
    "months_df.loc[(months_df['TRANSACTION_DATE'] >= '2022-11-01') & (months_df['TRANSACTION_DATE'] < '2023-01-31'), 'quarter'] = 'winter2'\n",
    "months_df.loc[(months_df['TRANSACTION_DATE'] >= '2023-02-01') & (months_df['TRANSACTION_DATE'] < '2023-03-31'), 'quarter'] = 'spring2'\n",
    "months_df.loc[(months_df['TRANSACTION_DATE'] >= '2023-04-01') & (months_df['TRANSACTION_DATE'] < '2023-05-31'), 'quarter'] = 'summer3'\n",
    "months_df"
   ]
  },
  {
   "cell_type": "code",
   "execution_count": null,
   "id": "9990c658",
   "metadata": {
    "scrolled": false
   },
   "outputs": [],
   "source": [
    "summer= months_df.loc[months_df['quarter']== 'summer']\n",
    "summer"
   ]
  },
  {
   "cell_type": "code",
   "execution_count": null,
   "id": "7b8b58a3",
   "metadata": {
    "scrolled": true
   },
   "outputs": [],
   "source": [
    "summer1=summer.COLOR_DESCRIPTION_x.value_counts().to_frame().reset_index()\n",
    "summer1"
   ]
  },
  {
   "cell_type": "code",
   "execution_count": null,
   "id": "72f55f69",
   "metadata": {},
   "outputs": [],
   "source": [
    "summer_2=summer.COLOR_DESCRIPTION_y.value_counts().to_frame().reset_index()\n",
    "summer_2"
   ]
  },
  {
   "cell_type": "code",
   "execution_count": null,
   "id": "bc5bdc48",
   "metadata": {},
   "outputs": [],
   "source": [
    "summer_colors2021 = pd.merge(summer1, summer_2,\n",
    "                               left_on = 'index', right_on = 'index',\n",
    "                               how = 'inner')\n",
    "summer_colors2021"
   ]
  },
  {
   "cell_type": "code",
   "execution_count": null,
   "id": "f683ecbf",
   "metadata": {},
   "outputs": [],
   "source": [
    "barWidth = 0.25\n",
    "bars1 = summer_colors2021['COLOR_DESCRIPTION_x'].head()\n",
    "bars2 = summer_colors2021['COLOR_DESCRIPTION_y'].head()\n",
    "# Set position of bar on X axis\n",
    "r1 = np.arange(len(bars1))\n",
    "r2 = [x + barWidth for x in r1]\n",
    "# Make the plot\n",
    "plt.bar(r1, bars1, color='#173760', width=barWidth, edgecolor='white', label='parent shoe')\n",
    "plt.bar(r2, bars2, color='#00ABE4', width=barWidth, edgecolor='white', label='child shoe')\n",
    "plt.xticks([r + barWidth for r in range(len(bars1))],(summer_colors2021['index'].head()))\n",
    "plt.title('Summer 2021 colors')\n",
    "plt.subplots_adjust(bottom= 0.2, top = 0.98)\n",
    "# Create legend & Show graphic\n",
    "plt.legend()\n",
    "plt.show()"
   ]
  },
  {
   "cell_type": "code",
   "execution_count": null,
   "id": "e6f1abeb",
   "metadata": {},
   "outputs": [],
   "source": [
    "summer2= months_df.loc[months_df['quarter']== 'summer2']\n",
    "summer2"
   ]
  },
  {
   "cell_type": "code",
   "execution_count": null,
   "id": "d98daaf0",
   "metadata": {},
   "outputs": [],
   "source": [
    "summer_2=summer2.COLOR_DESCRIPTION_x.value_counts().to_frame().reset_index()\n",
    "summer_2"
   ]
  },
  {
   "cell_type": "code",
   "execution_count": null,
   "id": "a9f9795d",
   "metadata": {
    "scrolled": false
   },
   "outputs": [],
   "source": [
    "summer_3=summer2.COLOR_DESCRIPTION_y.value_counts().to_frame().reset_index()\n",
    "summer_3"
   ]
  },
  {
   "cell_type": "code",
   "execution_count": null,
   "id": "65da2f4c",
   "metadata": {},
   "outputs": [],
   "source": [
    "summer_colors2022 = pd.merge(summer_2, summer_3,\n",
    "                               left_on = 'index', right_on = 'index',\n",
    "                               how = 'inner')\n",
    "summer_colors2022"
   ]
  },
  {
   "cell_type": "code",
   "execution_count": null,
   "id": "a57939b8",
   "metadata": {},
   "outputs": [],
   "source": [
    "barWidth = 0.25\n",
    "bars1 = summer_colors2022['COLOR_DESCRIPTION_x'].head()\n",
    "bars2 = summer_colors2022['COLOR_DESCRIPTION_y'].head()\n",
    "# Set position of bar on X axis\n",
    "r1 = np.arange(len(bars1))\n",
    "r2 = [x + barWidth for x in r1]\n",
    "# Make the plot\n",
    "plt.bar(r1, bars1, color='#173760', width=barWidth, edgecolor='white', label='parent shoe')\n",
    "plt.bar(r2, bars2, color='#00ABE4', width=barWidth, edgecolor='white', label='child shoe')\n",
    "plt.xticks([r + barWidth for r in range(len(bars1))],(summer_colors2022['index'].head()))\n",
    "plt.title('Colors Sold in LB Over All Seasons')\n",
    "plt.subplots_adjust(bottom= 0.2, top = 0.98)\n",
    "# Create legend & Show graphic\n",
    "plt.legend()\n",
    "plt.show()"
   ]
  },
  {
   "cell_type": "code",
   "execution_count": null,
   "id": "90087955",
   "metadata": {},
   "outputs": [],
   "source": [
    "summer= months_df.loc[months_df['quarter']== 'summer3']\n",
    "summer"
   ]
  },
  {
   "cell_type": "code",
   "execution_count": null,
   "id": "7c891756",
   "metadata": {},
   "outputs": [],
   "source": [
    "summer_3=summer.COLOR_DESCRIPTION_x.value_counts().to_frame().reset_index()\n",
    "summer_3"
   ]
  },
  {
   "cell_type": "code",
   "execution_count": null,
   "id": "8a4104fd",
   "metadata": {},
   "outputs": [],
   "source": [
    "summer_4=summer.COLOR_DESCRIPTION_y.value_counts().to_frame().reset_index()\n",
    "summer_4"
   ]
  },
  {
   "cell_type": "code",
   "execution_count": null,
   "id": "8ff2aacb",
   "metadata": {},
   "outputs": [],
   "source": [
    "summer_colors2023 = pd.merge(summer_3, summer_4,\n",
    "                               left_on = 'index', right_on = 'index',\n",
    "                               how = 'inner')\n",
    "summer_colors2023"
   ]
  },
  {
   "cell_type": "code",
   "execution_count": null,
   "id": "e6c406d4",
   "metadata": {},
   "outputs": [],
   "source": [
    "barWidth = 0.25\n",
    "bars1 = summer_colors2023['COLOR_DESCRIPTION_x'].head()\n",
    "bars2 = summer_colors2023['COLOR_DESCRIPTION_y'].head()\n",
    "# Set position of bar on X axis\n",
    "r1 = np.arange(len(bars1))\n",
    "r2 = [x + barWidth for x in r1]\n",
    "# Make the plot\n",
    "plt.bar(r1, bars1, color='#173760', width=barWidth, edgecolor='white', label='parent shoe')\n",
    "plt.bar(r2, bars2, color='#00ABE4', width=barWidth, edgecolor='white', label='child shoe')\n",
    "plt.xticks([r + barWidth for r in range(len(bars1))],(summer_colors2023['index'].head()))\n",
    "plt.title('Summer 2023 colors')\n",
    "plt.subplots_adjust(bottom= 0.2, top = 0.98)\n",
    "# Create legend & Show graphic\n",
    "plt.legend()\n",
    "plt.show()"
   ]
  },
  {
   "cell_type": "code",
   "execution_count": null,
   "id": "6f7b6484",
   "metadata": {},
   "outputs": [],
   "source": [
    "fall= months_df.loc[months_df['quarter']== 'fall']\n",
    "fall"
   ]
  },
  {
   "cell_type": "code",
   "execution_count": null,
   "id": "5efbd16b",
   "metadata": {},
   "outputs": [],
   "source": [
    "fall_1=fall.COLOR_DESCRIPTION_x.value_counts().to_frame().reset_index()\n",
    "fall_1"
   ]
  },
  {
   "cell_type": "code",
   "execution_count": null,
   "id": "adf2237a",
   "metadata": {},
   "outputs": [],
   "source": [
    "fall_2=fall.COLOR_DESCRIPTION_y.value_counts().to_frame().reset_index()\n",
    "fall_2"
   ]
  },
  {
   "cell_type": "code",
   "execution_count": null,
   "id": "9413d9bf",
   "metadata": {},
   "outputs": [],
   "source": [
    "fall_colors2021 = pd.merge(fall_1, fall_2,\n",
    "                               left_on = 'index', right_on = 'index',\n",
    "                               how = 'inner')\n",
    "fall_colors2021"
   ]
  },
  {
   "cell_type": "code",
   "execution_count": null,
   "id": "edeb356b",
   "metadata": {},
   "outputs": [],
   "source": [
    "barWidth = 0.25\n",
    "bars1 = fall_colors2021['COLOR_DESCRIPTION_x'].head()\n",
    "bars2 = fall_colors2021['COLOR_DESCRIPTION_y'].head()\n",
    "# Set position of bar on X axis\n",
    "r1 = np.arange(len(bars1))\n",
    "r2 = [x + barWidth for x in r1]\n",
    "# Make the plot\n",
    "plt.bar(r1, bars1, color='#173760', width=barWidth, edgecolor='white', label='parent shoe')\n",
    "plt.bar(r2, bars2, color='#00ABE4', width=barWidth, edgecolor='white', label='child shoe')\n",
    "plt.xticks([r + barWidth for r in range(len(bars1))],(fall_colors2021['index'].head()))\n",
    "plt.title('Fall 2021 colors')\n",
    "plt.subplots_adjust(bottom= 0.2, top = 0.98)\n",
    "# Create legend & Show graphic\n",
    "plt.legend()\n",
    "plt.show()"
   ]
  },
  {
   "cell_type": "code",
   "execution_count": null,
   "id": "535d4162",
   "metadata": {},
   "outputs": [],
   "source": [
    "fall1= months_df.loc[months_df['quarter']== 'fall2']\n",
    "fall1"
   ]
  },
  {
   "cell_type": "code",
   "execution_count": null,
   "id": "871dbff7",
   "metadata": {},
   "outputs": [],
   "source": [
    "fall_3=fall1.COLOR_DESCRIPTION_y.value_counts().to_frame().reset_index()\n",
    "fall_3"
   ]
  },
  {
   "cell_type": "code",
   "execution_count": null,
   "id": "cf62e4e1",
   "metadata": {},
   "outputs": [],
   "source": [
    "fall_4=fall1.COLOR_DESCRIPTION_x.value_counts().to_frame().reset_index()\n",
    "fall_4"
   ]
  },
  {
   "cell_type": "code",
   "execution_count": null,
   "id": "d869e990",
   "metadata": {},
   "outputs": [],
   "source": [
    "fall_colors2022 = pd.merge(fall_4, fall_3,\n",
    "                               right_on = 'index', left_on = 'index',\n",
    "                               how = 'inner')\n",
    "fall_colors2022"
   ]
  },
  {
   "cell_type": "code",
   "execution_count": null,
   "id": "1e32f779",
   "metadata": {},
   "outputs": [],
   "source": [
    "barWidth = 0.25\n",
    "bars1 = fall_colors2022['COLOR_DESCRIPTION_x'].head()\n",
    "bars2 = fall_colors2022['COLOR_DESCRIPTION_y'].head()\n",
    "# Set position of bar on X axis\n",
    "r1 = np.arange(len(bars1))\n",
    "r2 = [x + barWidth for x in r1]\n",
    "# Make the plot\n",
    "plt.bar(r1, bars1, color='#173760', width=barWidth, edgecolor='white', label='parent shoe')\n",
    "plt.bar(r2, bars2, color='#00ABE4', width=barWidth, edgecolor='white', label='child shoe')\n",
    "plt.xticks([r + barWidth for r in range(len(bars1))],(fall_colors2022['index'].head()))\n",
    "plt.title('Fall 2022 colors')\n",
    "plt.subplots_adjust(bottom= 0.2, top = 0.98)\n",
    "# Create legend & Show graphic\n",
    "plt.legend()\n",
    "plt.show()"
   ]
  },
  {
   "cell_type": "code",
   "execution_count": null,
   "id": "72ba25a2",
   "metadata": {},
   "outputs": [],
   "source": [
    "spring= months_df.loc[months_df['quarter']== 'spring']\n",
    "spring"
   ]
  },
  {
   "cell_type": "code",
   "execution_count": null,
   "id": "bf2c7298",
   "metadata": {},
   "outputs": [],
   "source": [
    "spring_1=spring.COLOR_DESCRIPTION_x.value_counts().to_frame().reset_index()\n",
    "spring_1"
   ]
  },
  {
   "cell_type": "code",
   "execution_count": null,
   "id": "fa8ebd7a",
   "metadata": {},
   "outputs": [],
   "source": [
    "spring_2=spring.COLOR_DESCRIPTION_y.value_counts().to_frame().reset_index()\n",
    "spring_2"
   ]
  },
  {
   "cell_type": "code",
   "execution_count": null,
   "id": "f6129289",
   "metadata": {},
   "outputs": [],
   "source": [
    "spring2021 = pd.merge(spring_1, spring_2,\n",
    "                               left_on = 'index', right_on = 'index',\n",
    "                               how = 'inner')\n",
    "spring2021"
   ]
  },
  {
   "cell_type": "code",
   "execution_count": null,
   "id": "c1f8e42d",
   "metadata": {},
   "outputs": [],
   "source": [
    "barWidth = 0.25\n",
    "bars1 = spring2021['COLOR_DESCRIPTION_x'].head()\n",
    "bars2 = spring2021['COLOR_DESCRIPTION_y'].head()\n",
    "# Set position of bar on X axis\n",
    "r1 = np.arange(len(bars1))\n",
    "r2 = [x + barWidth for x in r1]\n",
    "# Make the plot\n",
    "plt.bar(r1, bars1, color='#173760', width=barWidth, edgecolor='white', label='parent shoe')\n",
    "plt.bar(r2, bars2, color='#00ABE4', width=barWidth, edgecolor='white', label='child shoe')\n",
    "plt.xticks([r + barWidth for r in range(len(bars1))],(spring2021['index'].head()))\n",
    "plt.title('Spring 2022 colors')\n",
    "plt.subplots_adjust(bottom= 0.2, top = 0.98)\n",
    "# Create legend & Show graphic\n",
    "plt.legend()\n",
    "plt.show()"
   ]
  },
  {
   "cell_type": "code",
   "execution_count": null,
   "id": "f6f294b0",
   "metadata": {},
   "outputs": [],
   "source": []
  },
  {
   "cell_type": "code",
   "execution_count": null,
   "id": "0e30efbc",
   "metadata": {},
   "outputs": [],
   "source": [
    "spring1= months_df.loc[months_df['quarter']== 'spring2']\n",
    "spring1"
   ]
  },
  {
   "cell_type": "code",
   "execution_count": null,
   "id": "f32647e1",
   "metadata": {},
   "outputs": [],
   "source": [
    "spring_3=spring1.COLOR_DESCRIPTION_x.value_counts().to_frame().reset_index()\n",
    "spring_3"
   ]
  },
  {
   "cell_type": "code",
   "execution_count": null,
   "id": "390253b5",
   "metadata": {},
   "outputs": [],
   "source": [
    "spring_4=spring1.COLOR_DESCRIPTION_y.value_counts().to_frame().reset_index()\n",
    "spring_4"
   ]
  },
  {
   "cell_type": "code",
   "execution_count": null,
   "id": "dc2bcb95",
   "metadata": {},
   "outputs": [],
   "source": [
    "spring2022 = pd.merge(spring_3, spring_4,\n",
    "                               left_on = 'index', right_on = 'index',\n",
    "                               how = 'inner')\n",
    "spring2022"
   ]
  },
  {
   "cell_type": "code",
   "execution_count": null,
   "id": "77d3ee1d",
   "metadata": {},
   "outputs": [],
   "source": [
    "barWidth = 0.25\n",
    "bars1 = spring2022['COLOR_DESCRIPTION_x'].head()\n",
    "bars2 = spring2022['COLOR_DESCRIPTION_y'].head()\n",
    "# Set position of bar on X axis\n",
    "r1 = np.arange(len(bars1))\n",
    "r2 = [x + barWidth for x in r1]\n",
    "# Make the plot\n",
    "plt.bar(r1, bars1, color='#173760', width=barWidth, edgecolor='white', label='parent shoe')\n",
    "plt.bar(r2, bars2, color='#00ABE4', width=barWidth, edgecolor='white', label='child shoe')\n",
    "plt.xticks([r + barWidth for r in range(len(bars1))],(spring2022['index'].head()))\n",
    "plt.title('Spring 2023 colors')\n",
    "plt.subplots_adjust(bottom= 0.2, top = 0.98)\n",
    "# Create legend & Show graphic\n",
    "plt.legend()\n",
    "plt.show()"
   ]
  },
  {
   "cell_type": "code",
   "execution_count": null,
   "id": "1bbc2456",
   "metadata": {},
   "outputs": [],
   "source": [
    "winter1= months_df.loc[months_df['quarter']== 'winter2']\n",
    "winter1"
   ]
  },
  {
   "cell_type": "code",
   "execution_count": null,
   "id": "d57ca873",
   "metadata": {
    "scrolled": true
   },
   "outputs": [],
   "source": [
    "winter= months_df.loc[months_df['quarter']== 'winter']\n",
    "winter"
   ]
  },
  {
   "cell_type": "code",
   "execution_count": null,
   "id": "785fe49b",
   "metadata": {},
   "outputs": [],
   "source": [
    "winter_3=winter.COLOR_DESCRIPTION_x.value_counts().to_frame().reset_index()\n",
    "winter_3"
   ]
  },
  {
   "cell_type": "code",
   "execution_count": null,
   "id": "44b42c8e",
   "metadata": {},
   "outputs": [],
   "source": [
    "winter_4=winter.COLOR_DESCRIPTION_y.value_counts().to_frame().reset_index()\n",
    "winter_4"
   ]
  },
  {
   "cell_type": "code",
   "execution_count": null,
   "id": "32ab6469",
   "metadata": {},
   "outputs": [],
   "source": [
    "winter2022 = pd.merge(winter_3, winter_4,\n",
    "                               left_on = 'index', right_on = 'index',\n",
    "                               how = 'inner')\n",
    "winter2022"
   ]
  },
  {
   "cell_type": "code",
   "execution_count": null,
   "id": "e8b2b95e",
   "metadata": {},
   "outputs": [],
   "source": [
    "barWidth = 0.25\n",
    "bars1 = winter2022['COLOR_DESCRIPTION_x'].head()\n",
    "bars2 = winter2022['COLOR_DESCRIPTION_y'].head()\n",
    "# Set position of bar on X axis\n",
    "r1 = np.arange(len(bars1))\n",
    "r2 = [x + barWidth for x in r1]\n",
    "# Make the plot\n",
    "plt.bar(r1, bars1, color='#173760', width=barWidth, edgecolor='white', label='parent shoe')\n",
    "plt.bar(r2, bars2, color='#00ABE4', width=barWidth, edgecolor='white', label='child shoe')\n",
    "plt.xticks([r + barWidth for r in range(len(bars1))],(winter2022['index'].head()))\n",
    "plt.title('Winter 2022 colors')\n",
    "plt.subplots_adjust(bottom= 0.2, top = 0.98)\n",
    "# Create legend & Show graphic\n",
    "plt.legend()\n",
    "plt.show()"
   ]
  },
  {
   "cell_type": "code",
   "execution_count": null,
   "id": "e17a27bb",
   "metadata": {},
   "outputs": [],
   "source": [
    "winter_1=winter.COLOR_DESCRIPTION_x.value_counts().to_frame().reset_index()\n",
    "winter_1"
   ]
  },
  {
   "cell_type": "code",
   "execution_count": null,
   "id": "1279b741",
   "metadata": {},
   "outputs": [],
   "source": [
    "winter_2=winter.COLOR_DESCRIPTION_y.value_counts().to_frame().reset_index()\n",
    "winter_2"
   ]
  },
  {
   "cell_type": "code",
   "execution_count": null,
   "id": "028af053",
   "metadata": {},
   "outputs": [],
   "source": [
    "winter2021 = pd.merge(winter_1, winter_2,\n",
    "                               left_on = 'index', right_on = 'index',\n",
    "                               how = 'inner')\n",
    "winter2021"
   ]
  },
  {
   "cell_type": "code",
   "execution_count": null,
   "id": "7586f03b",
   "metadata": {},
   "outputs": [],
   "source": [
    "barWidth = 0.25\n",
    "bars1 = winter2021['COLOR_DESCRIPTION_x'].head()\n",
    "bars2 = winter2021['COLOR_DESCRIPTION_y'].head()\n",
    "# Set position of bar on X axis\n",
    "r1 = np.arange(len(bars1))\n",
    "r2 = [x + barWidth for x in r1]\n",
    "# Make the plot\n",
    "plt.bar(r1, bars1, color='#173760', width=barWidth, edgecolor='white', label='parent shoe')\n",
    "plt.bar(r2, bars2, color='#00ABE4', width=barWidth, edgecolor='white', label='child shoe')\n",
    "plt.xticks([r + barWidth for r in range(len(bars1))],(winter2021['index'].head()))\n",
    "plt.title('Winter 2021 colors')\n",
    "plt.subplots_adjust(bottom= 0.2, top = 0.98)\n",
    "# Create legend & Show graphic\n",
    "plt.legend()\n",
    "plt.show()"
   ]
  },
  {
   "cell_type": "code",
   "execution_count": null,
   "id": "008105d2",
   "metadata": {},
   "outputs": [],
   "source": []
  },
  {
   "cell_type": "code",
   "execution_count": null,
   "id": "91a62a0e",
   "metadata": {},
   "outputs": [],
   "source": [
    "months_df.reset_index()"
   ]
  },
  {
   "cell_type": "code",
   "execution_count": null,
   "id": "c2cdd854",
   "metadata": {},
   "outputs": [],
   "source": [
    "height = brand_df['pair_count'].head(10)\n",
    "bars =brand_df['color_combo'].head(10)\n",
    "x_pos = np.arange(len(bars))\n",
    "plt.figure(figsize=(25,15))\n",
    "plt.bar(x_pos, height, color = (0.5,0.1,0.5,0.6))\n",
    "plt.title('different colors selling')\n",
    "plt.xlabel('pair_count')\n",
    "plt.ylabel('color')\n",
    "plt.xticks(x_pos, bars)\n",
    "plt.show()"
   ]
  },
  {
   "cell_type": "markdown",
   "id": "a0286fdf",
   "metadata": {},
   "source": [
    "5)\tAre there any shoe combinations that have high correlation but not high volume (Do they sell together often but don’t appear often in the data)"
   ]
  },
  {
   "cell_type": "code",
   "execution_count": null,
   "id": "c42ceb53",
   "metadata": {},
   "outputs": [],
   "source": [
    "stock_df"
   ]
  },
  {
   "cell_type": "code",
   "execution_count": null,
   "id": "ec7d9689",
   "metadata": {},
   "outputs": [],
   "source": [
    "combinations = stock_df.drop(['DIV_x','MAJOR_y','UPPER_TYPE_x','BRAND_ID_x','SOLE_TYPE_x','MAJOR_x', 'BRAND_ID_y', 'MATERIAL_y','UPPER_TYPE_y','SOLE_TYPE_y','MINOR_x','STOCKNO_x','MINOR_y','STOCKNO_y','SILHOUETTE_y','SEASON_y','MATERIAL_x','SEASON_x'], axis = 1)\n",
    "combinations "
   ]
  },
  {
   "cell_type": "code",
   "execution_count": null,
   "id": "a89c206f",
   "metadata": {},
   "outputs": [],
   "source": [
    "combinations.head(25)"
   ]
  },
  {
   "cell_type": "code",
   "execution_count": null,
   "id": "1c55a0e9",
   "metadata": {},
   "outputs": [],
   "source": [
    "months_df = months_df.groupby(['TRANSACTION_DATE','COLOR_STORY_y','COLOR_STORY_x','pair_count']).count()\n",
    "months_df"
   ]
  }
 ],
 "metadata": {
  "kernelspec": {
   "display_name": "Python 3 (ipykernel)",
   "language": "python",
   "name": "python3"
  },
  "language_info": {
   "codemirror_mode": {
    "name": "ipython",
    "version": 3
   },
   "file_extension": ".py",
   "mimetype": "text/x-python",
   "name": "python",
   "nbconvert_exporter": "python",
   "pygments_lexer": "ipython3",
   "version": "3.10.9"
  }
 },
 "nbformat": 4,
 "nbformat_minor": 5
}
